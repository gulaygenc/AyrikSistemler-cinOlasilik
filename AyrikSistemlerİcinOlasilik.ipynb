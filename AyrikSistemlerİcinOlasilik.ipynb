{
  "nbformat": 4,
  "nbformat_minor": 0,
  "metadata": {
    "colab": {
      "provenance": []
    },
    "kernelspec": {
      "name": "python3",
      "display_name": "Python 3"
    },
    "language_info": {
      "name": "python"
    }
  },
  "cells": [
    {
      "cell_type": "markdown",
      "source": [
        "## **Güvercin Yuvası İlkesi**\n",
        "\n",
        "**Soru:** 30 kişilik bir grup 15 evli çiftten oluşuyor. Bu grup içinden en az kaç kişi seçilirse en az bir evli çift olur?"
      ],
      "metadata": {
        "id": "m7wdgv5jjLEk"
      }
    },
    {
      "cell_type": "code",
      "execution_count": null,
      "metadata": {
        "id": "sFen3EvKMt4u"
      },
      "outputs": [],
      "source": [
        "def en_az_evli_cift(grup_sayisi, evli_cift_sayisi):\n",
        "    # En az kaç kişi seçilmelidir ki en az bir evli çift olsun?\n",
        "    if en_az_kisi = evli_cift_sayisi + 1\n",
        "    return en_az_kisi\n",
        "\n",
        "grup_sayisi = 30\n",
        "evli_cift_sayisi = 15\n",
        "\n",
        "en_az_kisi = en_az_evli_cift(grup_sayisi, evli_cift_sayisi)\n",
        "print(\"En az {} kişi seçilmelidir ki en azından bir evli çift olsun.\".format(en_az_kisi))\n"
      ]
    },
    {
      "cell_type": "markdown",
      "source": [
        "#**Permütasyon**\n",
        "\n",
        "**Soru:** 3 kız ve 5 erkek öğrenci yan yana dizilecektir. Erkeklerin yan yana olma olasılığı nedir?"
      ],
      "metadata": {
        "id": "4K-d_JXCuIEa"
      }
    },
    {
      "cell_type": "code",
      "source": [
        "import math\n",
        "\n",
        "# Toplam kişi sayısı\n",
        "toplam_kisi = 8\n",
        "\n",
        "# Erkek sayısı\n",
        "erkek_sayisi = 5\n",
        "\n",
        "# Toplam düzenleme sayısı (8!)\n",
        "toplam_duzenleme = math.factorial(toplam_kisi)\n",
        "\n",
        "# Erkekler bir arada olduğunda oluşabilecek düzenleme sayısı (6!)\n",
        "erkek_grubu_duzenleme = math.factorial(toplam_kisi - erkek_sayisi)\n",
        "\n",
        "# Erkeklerin bir arada olma olasılığı\n",
        "olasilik = erkek_grubu_duzenleme / toplam_duzenleme\n",
        "\n",
        "print(\"Erkeklerin bir arada olma olasılığı:\", olasilik)\n"
      ],
      "metadata": {
        "colab": {
          "base_uri": "https://localhost:8080/"
        },
        "id": "jkdPMbQNxjYx",
        "outputId": "f0b0e6e0-b11f-44ab-9d2b-2c26eb5e0893"
      },
      "execution_count": 4,
      "outputs": [
        {
          "output_type": "stream",
          "name": "stdout",
          "text": [
            "Erkeklerin bir arada olma olasılığı: 0.00014880952380952382\n"
          ]
        }
      ]
    },
    {
      "cell_type": "markdown",
      "source": [
        "#**Kombinasyon**\n",
        "\n",
        "**Soru:** 12 kişilik bir basketbol takımından ilk 5 kişi kaç farklı şekilde seçilebilir?"
      ],
      "metadata": {
        "id": "IVqamazgpGOX"
      }
    },
    {
      "cell_type": "code",
      "source": [
        "import math\n",
        "\n",
        "# Takımdaki toplam oyuncu sayısı\n",
        "toplam_oyuncu = 12\n",
        "\n",
        "# Seçilecek oyuncu sayısı\n",
        "secilecek_oyuncu = 5\n",
        "\n",
        "# Kombinasyon hesabı (C(n, r))\n",
        "kombinasyon = math.comb(toplam_oyuncu, secilecek_oyuncu)\n",
        "\n",
        "print(\"İlk 5 kişi, {} farklı şekilde seçilebilir.\".format(kombinasyon))"
      ],
      "metadata": {
        "colab": {
          "base_uri": "https://localhost:8080/"
        },
        "id": "5zjnKVpfqJJD",
        "outputId": "3d7c6fcc-f5a6-4977-ebb5-92042083cf2e"
      },
      "execution_count": 5,
      "outputs": [
        {
          "output_type": "stream",
          "name": "stdout",
          "text": [
            "İlk 5 kişi, 792 farklı şekilde seçilebilir.\n"
          ]
        }
      ]
    }
  ]
}
